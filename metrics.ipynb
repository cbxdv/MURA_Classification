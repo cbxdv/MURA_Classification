{
 "cells": [
  {
   "cell_type": "code",
   "execution_count": 1,
   "id": "f8b13412-ed08-486e-b1bc-3438b4de8583",
   "metadata": {},
   "outputs": [],
   "source": [
    "import pandas as pd\n",
    "import tensorflow as tf\n",
    "from tensorflow.keras.preprocessing.image import ImageDataGenerator\n",
    "from matplotlib import pyplot as plt\n",
    "import seaborn as sns"
   ]
  },
  {
   "cell_type": "code",
   "execution_count": 2,
   "id": "dd2dd7ae",
   "metadata": {},
   "outputs": [],
   "source": [
    "df = pd.read_csv('processed/valid.csv', dtype=str)"
   ]
  },
  {
   "cell_type": "code",
   "execution_count": 3,
   "id": "cc8de232-131a-424d-bfde-aa24dd900303",
   "metadata": {},
   "outputs": [],
   "source": [
    "image_generator = ImageDataGenerator(\n",
    "    rescale=1.0/255,\n",
    "    rotation_range=30,   \n",
    ")"
   ]
  },
  {
   "cell_type": "markdown",
   "id": "5275d09d",
   "metadata": {},
   "source": [
    "---"
   ]
  },
  {
   "cell_type": "code",
   "execution_count": 4,
   "id": "54a6559a",
   "metadata": {},
   "outputs": [
    {
     "name": "stdout",
     "output_type": "stream",
     "text": [
      "Found 3197 validated image filenames belonging to 2 classes.\n"
     ]
    }
   ],
   "source": [
    "valid_generator = image_generator.flow_from_dataframe(\n",
    "    dataframe=df,\n",
    "    x_col='path',\n",
    "    y_col='label',\n",
    "    class_mode='binary',\n",
    "    batch_size=64,\n",
    "    target_size=(256, 256)\n",
    ")"
   ]
  },
  {
   "cell_type": "code",
   "execution_count": 5,
   "id": "ef8d054d",
   "metadata": {},
   "outputs": [],
   "source": [
    "model = tf.keras.Sequential([\n",
    "    tf.keras.layers.Input((256, 256, 3)),\n",
    "    \n",
    "    tf.keras.layers.Conv2D(filters=32, kernel_size=(3, 3), padding='same'),\n",
    "    tf.keras.layers.BatchNormalization(),\n",
    "    tf.keras.layers.ReLU(),\n",
    "    tf.keras.layers.AveragePooling2D(pool_size=(2, 2), strides=(2, 2)),\n",
    "    tf.keras.layers.Dropout(rate=0.2),\n",
    "    \n",
    "    tf.keras.layers.Conv2D(filters=64, kernel_size=(3, 3)),\n",
    "    tf.keras.layers.BatchNormalization(),\n",
    "    tf.keras.layers.ReLU(),\n",
    "    tf.keras.layers.AveragePooling2D(pool_size=(2, 2), strides=(2, 2), padding='same'),\n",
    "    tf.keras.layers.Dropout(rate=0.2),\n",
    "\n",
    "    \n",
    "    tf.keras.layers.Conv2D(filters=128, kernel_size=(3, 3), padding='same'),\n",
    "    tf.keras.layers.BatchNormalization(),\n",
    "    tf.keras.layers.ReLU(),\n",
    "    tf.keras.layers.AveragePooling2D(pool_size=(2, 2), strides=(2, 2)),\n",
    "    tf.keras.layers.Dropout(rate=0.2),\n",
    "\n",
    "    \n",
    "    tf.keras.layers.Conv2D(filters=256, kernel_size=(3, 3), padding='same'),\n",
    "    tf.keras.layers.BatchNormalization(),\n",
    "    tf.keras.layers.ReLU(),\n",
    "    tf.keras.layers.AveragePooling2D(pool_size=(2, 2), strides=(2, 2)),\n",
    "    tf.keras.layers.Dropout(rate=0.2),\n",
    "\n",
    "    tf.keras.layers.Flatten(),\n",
    "    tf.keras.layers.Dense(units=1, activation='sigmoid')\n",
    "])"
   ]
  },
  {
   "cell_type": "code",
   "execution_count": 6,
   "id": "2f4ad9b4",
   "metadata": {},
   "outputs": [],
   "source": [
    "model.load_weights('cnn_model.keras')"
   ]
  },
  {
   "cell_type": "code",
   "execution_count": 7,
   "id": "e902addd",
   "metadata": {},
   "outputs": [],
   "source": [
    "model.compile(\n",
    "    loss=tf.keras.losses.BinaryCrossentropy(),\n",
    "    optimizer=tf.keras.optimizers.Adam(learning_rate=1e-3),\n",
    "    metrics=[\n",
    "        tf.keras.metrics.TruePositives(name='True Positives'),\n",
    "        tf.keras.metrics.TrueNegatives(name='True Negatives'),\n",
    "        tf.keras.metrics.FalsePositives(name='False Positives'),\n",
    "        tf.keras.metrics.FalseNegatives(name='False Negatives'),\n",
    "        tf.keras.metrics.BinaryAccuracy(name='Binary Accuracy'),\n",
    "        tf.keras.metrics.Precision(name='Precision'),\n",
    "        tf.keras.metrics.Recall(name='Recall'),\n",
    "    ]\n",
    ")"
   ]
  },
  {
   "cell_type": "code",
   "execution_count": 9,
   "id": "5c17061d",
   "metadata": {},
   "outputs": [
    {
     "name": "stdout",
     "output_type": "stream",
     "text": [
      "\u001b[1m50/50\u001b[0m \u001b[32m━━━━━━━━━━━━━━━━━━━━\u001b[0m\u001b[37m\u001b[0m \u001b[1m52s\u001b[0m 1s/step - Binary Accuracy: 0.6692 - False Negatives: 385.8824 - False Positives: 167.3333 - Precision: 0.7169 - Recall: 0.5264 - True Negatives: 684.6078 - True Positives: 424.8039 - loss: 0.6018\n"
     ]
    }
   ],
   "source": [
    "eval = model.evaluate(valid_generator, return_dict=True)"
   ]
  },
  {
   "cell_type": "code",
   "execution_count": 10,
   "id": "20f1a0e8",
   "metadata": {},
   "outputs": [
    {
     "data": {
      "text/html": [
       "<div>\n",
       "<style scoped>\n",
       "    .dataframe tbody tr th:only-of-type {\n",
       "        vertical-align: middle;\n",
       "    }\n",
       "\n",
       "    .dataframe tbody tr th {\n",
       "        vertical-align: top;\n",
       "    }\n",
       "\n",
       "    .dataframe thead th {\n",
       "        text-align: right;\n",
       "    }\n",
       "</style>\n",
       "<table border=\"1\" class=\"dataframe\">\n",
       "  <thead>\n",
       "    <tr style=\"text-align: right;\">\n",
       "      <th></th>\n",
       "      <th>value</th>\n",
       "    </tr>\n",
       "  </thead>\n",
       "  <tbody>\n",
       "    <tr>\n",
       "      <th>Binary Accuracy</th>\n",
       "      <td>0.670629</td>\n",
       "    </tr>\n",
       "    <tr>\n",
       "      <th>False Negatives</th>\n",
       "      <td>735.000000</td>\n",
       "    </tr>\n",
       "    <tr>\n",
       "      <th>False Positives</th>\n",
       "      <td>318.000000</td>\n",
       "    </tr>\n",
       "    <tr>\n",
       "      <th>Precision</th>\n",
       "      <td>0.714286</td>\n",
       "    </tr>\n",
       "    <tr>\n",
       "      <th>Recall</th>\n",
       "      <td>0.519608</td>\n",
       "    </tr>\n",
       "    <tr>\n",
       "      <th>True Negatives</th>\n",
       "      <td>1349.000000</td>\n",
       "    </tr>\n",
       "    <tr>\n",
       "      <th>True Positives</th>\n",
       "      <td>795.000000</td>\n",
       "    </tr>\n",
       "    <tr>\n",
       "      <th>loss</th>\n",
       "      <td>0.598483</td>\n",
       "    </tr>\n",
       "  </tbody>\n",
       "</table>\n",
       "</div>"
      ],
      "text/plain": [
       "                       value\n",
       "Binary Accuracy     0.670629\n",
       "False Negatives   735.000000\n",
       "False Positives   318.000000\n",
       "Precision           0.714286\n",
       "Recall              0.519608\n",
       "True Negatives   1349.000000\n",
       "True Positives    795.000000\n",
       "loss                0.598483"
      ]
     },
     "execution_count": 10,
     "metadata": {},
     "output_type": "execute_result"
    }
   ],
   "source": [
    "pd.DataFrame.from_dict(eval, orient='index', columns=['value'])"
   ]
  },
  {
   "cell_type": "code",
   "execution_count": 11,
   "id": "c2ae7b5e",
   "metadata": {},
   "outputs": [],
   "source": [
    "cm = [\n",
    "    [eval['True Positives'], eval['False Positives']],\n",
    "    [eval['False Negatives'], eval['True Positives']]\n",
    "]"
   ]
  },
  {
   "cell_type": "code",
   "execution_count": 12,
   "id": "b4d0c9f8",
   "metadata": {},
   "outputs": [
    {
     "data": {
      "image/png": "[encoded data removed]",
      "text/plain": [
       "<Figure size 500x500 with 2 Axes>"
      ]
     },
     "metadata": {},
     "output_type": "display_data"
    }
   ],
   "source": [
    "plt.figure(figsize=(5, 5))\n",
    "sns.heatmap(cm, annot=True, fmt='g', xticklabels=['Positive', 'Negative'], yticklabels=['Positive', 'Negative'])\n",
    "plt.title('Confusion Matrix')\n",
    "plt.ylabel('True label')\n",
    "plt.xlabel('Predicted label')\n",
    "plt.show()"
   ]
  },
  {
   "cell_type": "markdown",
   "id": "66ec6522",
   "metadata": {},
   "source": [
    "---"
   ]
  },
  {
   "cell_type": "code",
   "execution_count": 13,
   "id": "36b3aa5d",
   "metadata": {},
   "outputs": [
    {
     "name": "stdout",
     "output_type": "stream",
     "text": [
      "Found 3197 validated image filenames belonging to 2 classes.\n"
     ]
    }
   ],
   "source": [
    "valid_generator = image_generator.flow_from_dataframe(\n",
    "    dataframe=df,\n",
    "    x_col='path',\n",
    "    y_col='label',\n",
    "    class_mode='binary',\n",
    "    batch_size=16,\n",
    "    target_size=(224, 224)\n",
    ")"
   ]
  },
  {
   "cell_type": "code",
   "execution_count": 14,
   "id": "ef3022b0",
   "metadata": {},
   "outputs": [],
   "source": [
    "from tensorflow.keras.applications.vgg19 import VGG19\n",
    "\n",
    "vgg19 = VGG19(include_top=False, input_shape=(224, 224, 3), weights='imagenet', pooling='max')\n",
    "\n",
    "inputs = tf.keras.layers.Input(shape=(224, 224, 3))\n",
    "x = vgg19(inputs, training=False)\n",
    "x = tf.keras.layers.Dropout(rate=0.2)(x)\n",
    "output = tf.keras.layers.Dense(units=1, activation='sigmoid')(x)\n",
    "\n",
    "model = tf.keras.Model(inputs, output)"
   ]
  },
  {
   "cell_type": "code",
   "execution_count": 15,
   "id": "51337bcb",
   "metadata": {},
   "outputs": [],
   "source": [
    "model.load_weights('vgg19_model.keras')"
   ]
  },
  {
   "cell_type": "code",
   "execution_count": 16,
   "id": "52d5b905",
   "metadata": {},
   "outputs": [],
   "source": [
    "model.compile(\n",
    "    loss=tf.keras.losses.BinaryCrossentropy(),\n",
    "    optimizer=tf.keras.optimizers.Adam(learning_rate=1e-3),\n",
    "    metrics=[\n",
    "        tf.keras.metrics.TruePositives(name='True Positives'),\n",
    "        tf.keras.metrics.TrueNegatives(name='True Negatives'),\n",
    "        tf.keras.metrics.FalsePositives(name='False Positives'),\n",
    "        tf.keras.metrics.FalseNegatives(name='False Negatives'),\n",
    "        tf.keras.metrics.BinaryAccuracy(name='Binary Accuracy'),\n",
    "        tf.keras.metrics.Precision(name='Precision'),\n",
    "        tf.keras.metrics.Recall(name='Recall'),\n",
    "    ]\n",
    ")"
   ]
  },
  {
   "cell_type": "code",
   "execution_count": 18,
   "id": "dbfbb5b9",
   "metadata": {},
   "outputs": [
    {
     "name": "stdout",
     "output_type": "stream",
     "text": [
      "\u001b[1m200/200\u001b[0m \u001b[32m━━━━━━━━━━━━━━━━━━━━\u001b[0m\u001b[37m\u001b[0m \u001b[1m263s\u001b[0m 1s/step - Binary Accuracy: 0.7123 - False Negatives: 248.4129 - False Positives: 231.6219 - Precision: 0.7101 - Recall: 0.6848 - True Negatives: 611.6020 - True Positives: 524.2537 - loss: 0.5508\n"
     ]
    }
   ],
   "source": [
    "eval = model.evaluate(valid_generator, return_dict=True)"
   ]
  },
  {
   "cell_type": "code",
   "execution_count": 19,
   "id": "a1be6da6",
   "metadata": {},
   "outputs": [
    {
     "data": {
      "text/html": [
       "<div>\n",
       "<style scoped>\n",
       "    .dataframe tbody tr th:only-of-type {\n",
       "        vertical-align: middle;\n",
       "    }\n",
       "\n",
       "    .dataframe tbody tr th {\n",
       "        vertical-align: top;\n",
       "    }\n",
       "\n",
       "    .dataframe thead th {\n",
       "        text-align: right;\n",
       "    }\n",
       "</style>\n",
       "<table border=\"1\" class=\"dataframe\">\n",
       "  <thead>\n",
       "    <tr style=\"text-align: right;\">\n",
       "      <th></th>\n",
       "      <th>value</th>\n",
       "    </tr>\n",
       "  </thead>\n",
       "  <tbody>\n",
       "    <tr>\n",
       "      <th>Binary Accuracy</th>\n",
       "      <td>0.705349</td>\n",
       "    </tr>\n",
       "    <tr>\n",
       "      <th>False Negatives</th>\n",
       "      <td>492.000000</td>\n",
       "    </tr>\n",
       "    <tr>\n",
       "      <th>False Positives</th>\n",
       "      <td>450.000000</td>\n",
       "    </tr>\n",
       "    <tr>\n",
       "      <th>Precision</th>\n",
       "      <td>0.697581</td>\n",
       "    </tr>\n",
       "    <tr>\n",
       "      <th>Recall</th>\n",
       "      <td>0.678431</td>\n",
       "    </tr>\n",
       "    <tr>\n",
       "      <th>True Negatives</th>\n",
       "      <td>1217.000000</td>\n",
       "    </tr>\n",
       "    <tr>\n",
       "      <th>True Positives</th>\n",
       "      <td>1038.000000</td>\n",
       "    </tr>\n",
       "    <tr>\n",
       "      <th>loss</th>\n",
       "      <td>0.563700</td>\n",
       "    </tr>\n",
       "  </tbody>\n",
       "</table>\n",
       "</div>"
      ],
      "text/plain": [
       "                       value\n",
       "Binary Accuracy     0.705349\n",
       "False Negatives   492.000000\n",
       "False Positives   450.000000\n",
       "Precision           0.697581\n",
       "Recall              0.678431\n",
       "True Negatives   1217.000000\n",
       "True Positives   1038.000000\n",
       "loss                0.563700"
      ]
     },
     "execution_count": 19,
     "metadata": {},
     "output_type": "execute_result"
    }
   ],
   "source": [
    "pd.DataFrame.from_dict(eval, orient='index', columns=['value'])"
   ]
  },
  {
   "cell_type": "code",
   "execution_count": 20,
   "id": "8850825e",
   "metadata": {},
   "outputs": [],
   "source": [
    "cm = [\n",
    "    [eval['True Positives'], eval['False Positives']],\n",
    "    [eval['False Negatives'], eval['True Positives']]\n",
    "]"
   ]
  },
  {
   "cell_type": "code",
   "execution_count": 21,
   "id": "4d718272",
   "metadata": {},
   "outputs": [
    {
     "data": {
      "image/png": "[encoded data removed]",
      "text/plain": [
       "<Figure size 500x500 with 2 Axes>"
      ]
     },
     "metadata": {},
     "output_type": "display_data"
    }
   ],
   "source": [
    "plt.figure(figsize=(5, 5))\n",
    "ax = sns.heatmap(cm, annot=True, fmt='g', xticklabels=['Positive', 'Negative'], yticklabels=['Positive', 'Negative'])\n",
    "plt.title('Confusion Matrix')\n",
    "plt.ylabel('True label')\n",
    "plt.xlabel('Predicted label')\n",
    "plt.show()"
   ]
  },
  {
   "cell_type": "markdown",
   "id": "914ae485",
   "metadata": {},
   "source": [
    "---"
   ]
  },
  {
   "cell_type": "code",
   "execution_count": 22,
   "id": "83ea4ce5",
   "metadata": {},
   "outputs": [
    {
     "name": "stdout",
     "output_type": "stream",
     "text": [
      "Found 3197 validated image filenames belonging to 2 classes.\n"
     ]
    }
   ],
   "source": [
    "valid_generator = image_generator.flow_from_dataframe(\n",
    "    dataframe=df,\n",
    "    x_col='path',\n",
    "    y_col='label',\n",
    "    class_mode='binary',\n",
    "    batch_size=16,\n",
    "    target_size=(224, 224)\n",
    ")"
   ]
  },
  {
   "cell_type": "code",
   "execution_count": 23,
   "id": "cb542ab2-833f-4f71-814f-710024888cf0",
   "metadata": {},
   "outputs": [],
   "source": [
    "from tensorflow.keras.applications.densenet import DenseNet201\n",
    "\n",
    "dense201 = DenseNet201(include_top=False, input_shape=(224, 224, 3), weights='imagenet', pooling=\"max\", classes=2)\n",
    "\n",
    "inputs = tf.keras.layers.Input(shape=(224, 224, 3))\n",
    "x = dense201(inputs, training=False)\n",
    "x = tf.keras.layers.Dropout(rate=0.2)(x)\n",
    "output = tf.keras.layers.Dense(units=1, activation='sigmoid')(x)\n",
    "\n",
    "model = tf.keras.Model(inputs, output)"
   ]
  },
  {
   "cell_type": "code",
   "execution_count": 24,
   "id": "1a268ed9-d103-4384-8c05-a1075cca5a07",
   "metadata": {},
   "outputs": [],
   "source": [
    "model.load_weights('dense201_model2.keras')"
   ]
  },
  {
   "cell_type": "code",
   "execution_count": 25,
   "id": "faeeddf6-09c8-49f3-a45c-e218f2601098",
   "metadata": {},
   "outputs": [],
   "source": [
    "model.compile(\n",
    "    loss=tf.keras.losses.BinaryCrossentropy(),\n",
    "    optimizer=tf.keras.optimizers.Adam(learning_rate=1e-3),\n",
    "    metrics=[\n",
    "        tf.keras.metrics.TruePositives(name='True Positives'),\n",
    "        tf.keras.metrics.TrueNegatives(name='True Negatives'),\n",
    "        tf.keras.metrics.FalsePositives(name='False Positives'),\n",
    "        tf.keras.metrics.FalseNegatives(name='False Negatives'),\n",
    "        tf.keras.metrics.BinaryAccuracy(name='Binary Accuracy'),\n",
    "        tf.keras.metrics.Precision(name='Precision'),\n",
    "        tf.keras.metrics.Recall(name='Recall'),\n",
    "    ]\n",
    ")"
   ]
  },
  {
   "cell_type": "code",
   "execution_count": 28,
   "id": "8d1dcb9d-33ad-4316-9b95-2258a756751a",
   "metadata": {},
   "outputs": [
    {
     "name": "stdout",
     "output_type": "stream",
     "text": [
      "\u001b[1m200/200\u001b[0m \u001b[32m━━━━━━━━━━━━━━━━━━━━\u001b[0m\u001b[37m\u001b[0m \u001b[1m143s\u001b[0m 714ms/step - Binary Accuracy: 0.8042 - False Negatives: 214.4428 - False Positives: 101.1741 - Precision: 0.8470 - Recall: 0.7250 - True Negatives: 740.3731 - True Positives: 559.9005 - loss: 0.5124\n"
     ]
    }
   ],
   "source": [
    "eval = model.evaluate(valid_generator, return_dict=True)"
   ]
  },
  {
   "cell_type": "code",
   "execution_count": 29,
   "id": "51ecec77",
   "metadata": {},
   "outputs": [
    {
     "data": {
      "text/html": [
       "<div>\n",
       "<style scoped>\n",
       "    .dataframe tbody tr th:only-of-type {\n",
       "        vertical-align: middle;\n",
       "    }\n",
       "\n",
       "    .dataframe tbody tr th {\n",
       "        vertical-align: top;\n",
       "    }\n",
       "\n",
       "    .dataframe thead th {\n",
       "        text-align: right;\n",
       "    }\n",
       "</style>\n",
       "<table border=\"1\" class=\"dataframe\">\n",
       "  <thead>\n",
       "    <tr style=\"text-align: right;\">\n",
       "      <th></th>\n",
       "      <th>value</th>\n",
       "    </tr>\n",
       "  </thead>\n",
       "  <tbody>\n",
       "    <tr>\n",
       "      <th>Binary Accuracy</th>\n",
       "      <td>0.809509</td>\n",
       "    </tr>\n",
       "    <tr>\n",
       "      <th>False Negatives</th>\n",
       "      <td>419.000000</td>\n",
       "    </tr>\n",
       "    <tr>\n",
       "      <th>False Positives</th>\n",
       "      <td>190.000000</td>\n",
       "    </tr>\n",
       "    <tr>\n",
       "      <th>Precision</th>\n",
       "      <td>0.853958</td>\n",
       "    </tr>\n",
       "    <tr>\n",
       "      <th>Recall</th>\n",
       "      <td>0.726144</td>\n",
       "    </tr>\n",
       "    <tr>\n",
       "      <th>True Negatives</th>\n",
       "      <td>1477.000000</td>\n",
       "    </tr>\n",
       "    <tr>\n",
       "      <th>True Positives</th>\n",
       "      <td>1111.000000</td>\n",
       "    </tr>\n",
       "    <tr>\n",
       "      <th>loss</th>\n",
       "      <td>0.483876</td>\n",
       "    </tr>\n",
       "  </tbody>\n",
       "</table>\n",
       "</div>"
      ],
      "text/plain": [
       "                       value\n",
       "Binary Accuracy     0.809509\n",
       "False Negatives   419.000000\n",
       "False Positives   190.000000\n",
       "Precision           0.853958\n",
       "Recall              0.726144\n",
       "True Negatives   1477.000000\n",
       "True Positives   1111.000000\n",
       "loss                0.483876"
      ]
     },
     "execution_count": 29,
     "metadata": {},
     "output_type": "execute_result"
    }
   ],
   "source": [
    "pd.DataFrame.from_dict(eval, orient='index', columns=['value'])"
   ]
  },
  {
   "cell_type": "code",
   "execution_count": 30,
   "id": "a2e78918",
   "metadata": {},
   "outputs": [],
   "source": [
    "cm = [\n",
    "    [eval['True Positives'], eval['False Positives']],\n",
    "    [eval['False Negatives'], eval['True Positives']]\n",
    "]"
   ]
  },
  {
   "cell_type": "code",
   "execution_count": 31,
   "id": "81466656-fddd-4a68-8150-fc2e6a98c1b7",
   "metadata": {},
   "outputs": [
    {
     "data": {
      "image/png": "[encoded data removed]",
      "text/plain": [
       "<Figure size 500x500 with 2 Axes>"
      ]
     },
     "metadata": {},
     "output_type": "display_data"
    }
   ],
   "source": [
    "plt.figure(figsize=(5, 5))\n",
    "ax = sns.heatmap(cm, annot=True, fmt='g', xticklabels=['Positive', 'Negative'], yticklabels=['Positive', 'Negative'])\n",
    "plt.title('Confusion Matrix')\n",
    "plt.ylabel('True label')\n",
    "plt.xlabel('Predicted label')\n",
    "plt.show()"
   ]
  }
 ],
 "metadata": {
  "kernelspec": {
   "display_name": "Python 3 (ipykernel)",
   "language": "python",
   "name": "python3"
  },
  "language_info": {
   "codemirror_mode": {
    "name": "ipython",
    "version": 3
   },
   "file_extension": ".py",
   "mimetype": "text/x-python",
   "name": "python",
   "nbconvert_exporter": "python",
   "pygments_lexer": "ipython3",
   "version": "3.12.3"
  }
 },
 "nbformat": 4,
 "nbformat_minor": 5
}
